{
 "cells": [
  {
   "cell_type": "code",
   "execution_count": 1,
   "metadata": {},
   "outputs": [],
   "source": [
    "%load_ext autoreload\n",
    "%autoreload 2"
   ]
  },
  {
   "cell_type": "code",
   "execution_count": 2,
   "metadata": {},
   "outputs": [],
   "source": [
    "from py2neo import Node, Relationship, Graph, NodeMatcher\n",
    "import csv\n",
    "import time\n",
    "\n",
    "from req_analysis import Model, Requirement, ContextCluster"
   ]
  },
  {
   "cell_type": "code",
   "execution_count": 3,
   "metadata": {},
   "outputs": [],
   "source": [
    "graph = Graph(bolt='bolt://localhost:7687/db/data', password=\"password\")"
   ]
  },
  {
   "cell_type": "code",
   "execution_count": 4,
   "metadata": {},
   "outputs": [
    {
     "data": {
      "text/plain": []
     },
     "execution_count": 4,
     "metadata": {},
     "output_type": "execute_result"
    }
   ],
   "source": [
    "# Empty graph\n",
    "graph.run(\"MATCH (n) DETACH DELETE n\")"
   ]
  },
  {
   "cell_type": "code",
   "execution_count": 5,
   "metadata": {},
   "outputs": [],
   "source": [
    "node_list = []\n",
    "relation_list = []\n",
    "uuid_gen = iter(range(1000))\n",
    "\n",
    "root = Node(\"Folder\", name='root', uuid=str(next(uuid_gen)))\n",
    "node_list.append(root)\n",
    "\n",
    "req_folder = Node(\"Folder\", name=\"Requirements\", uuid=str(next(uuid_gen)))\n",
    "node_list.append(req_folder)\n",
    "struc_folder = Node(\"Folder\", name=\"Structure\", uuid=str(next(uuid_gen)))\n",
    "node_list.append(struc_folder)\n",
    "lib_folder = Node(\"Folder\", name=\"Libraries\", uuid=str(next(uuid_gen)))\n",
    "node_list.append(lib_folder)\n",
    "\n",
    "gs_block = Node(\"Block\", name=\"Ground Station\", uuid=str(next(uuid_gen)))\n",
    "node_list.append(gs_block)\n",
    "antenna_block = Node(\"Block\", name=\"Main Antenna\", uuid=str(next(uuid_gen)))\n",
    "node_list.append(antenna_block)\n",
    "tech_block = Node(\"Block\", name=\"Technician\", uuid=str(next(uuid_gen)))\n",
    "node_list.append(tech_block)\n",
    "antenna_part = Node(\"Part_Property\", name=\"antenna\", uuid=str(next(uuid_gen)))\n",
    "node_list.append(antenna_part)\n",
    "tech_part = Node(\"Part_Property\", name=\"technician\", uuid=str(next(uuid_gen)))\n",
    "node_list.append(tech_part)\n",
    "\n",
    "mission_block = Node(\"Block\", name=\"Mission\", uuid=str(next(uuid_gen)))\n",
    "node_list.append(mission_block)\n",
    "gs_part = Node(\"Part_Property\", name=\"groundStation\", uuid=str(next(uuid_gen)))\n",
    "node_list.append(gs_part)\n",
    "sc_part = Node(\"Part_Property\", name=\"spacecraftVehicle\", uuid=str(next(uuid_gen)))\n",
    "node_list.append(sc_part)\n",
    "\n",
    "sc_block = Node(\"Block\", name=\"Spacecraft Vehicle\", uuid=str(next(uuid_gen)))\n",
    "node_list.append(sc_block)\n",
    "pannels_block = Node(\"Block\", name=\"Solar Pannel\", uuid=str(next(uuid_gen)))\n",
    "node_list.append(pannels_block)\n",
    "computer_block = Node(\"Block\", name=\"Main Computer\", uuid=str(next(uuid_gen)))\n",
    "node_list.append(computer_block)\n",
    "pannels_part = Node(\"Part_Property\", name=\"pannel\", uuid=str(next(uuid_gen)))\n",
    "node_list.append(pannels_part)\n",
    "computer_part = Node(\"Part_Property\", name=\"computer\", uuid=str(next(uuid_gen)))\n",
    "node_list.append(computer_part)\n",
    "speed_val = Node(\"Value_Property\", name=\"downlinkSpeed\", uuid=str(next(uuid_gen)))\n",
    "node_list.append(speed_val)\n",
    "\n",
    "s_unit = Node(\"Unit\", name=\"s\", uuid=str(next(uuid_gen)))\n",
    "node_list.append(s_unit)\n",
    "kb_unit = Node(\"Unit\", name=\"kB\", uuid=str(next(uuid_gen)))\n",
    "node_list.append(kb_unit)\n",
    "k_unit = Node(\"Unit\", name=\"K\", uuid=str(next(uuid_gen)))\n",
    "node_list.append(k_unit)\n",
    "\n",
    "\n",
    "\n",
    "\n",
    "\n",
    "\n",
    "with open('sc_requirements.csv') as csv_file:\n",
    "    csv_reader = csv.reader(csv_file, delimiter=',')\n",
    "    for row in csv_reader:\n",
    "        req = Node(\"Requirement\", name=row[1], req_text=row[2], uuid=str(next(uuid_gen)))\n",
    "        node_list.append(req)\n",
    "        \n",
    "        relation_list.append(Relationship(req_folder, \"_\", req, weight=2))\n",
    "        \n",
    "        allocated_node = gs_block if row[3]==\"groundStation\" else sc_block\n",
    "#         relation_list.append(Relationship(req, \"ALLOCATED\", allocated_node, weight=1))\n",
    "        \n",
    "\n",
    "# Model structure (containment)\n",
    "relation_list.append(Relationship(root, \"_\", req_folder, weight=2))\n",
    "relation_list.append(Relationship(root, \"_\", struc_folder, weight=2))\n",
    "relation_list.append(Relationship(root, \"_\", lib_folder, weight=2))\n",
    "\n",
    "relation_list.append(Relationship(struc_folder, \"_\", gs_block, weight=2))\n",
    "relation_list.append(Relationship(struc_folder, \"_\", mission_block, weight=2))\n",
    "relation_list.append(Relationship(struc_folder, \"_\", sc_block, weight=2))\n",
    "\n",
    "relation_list.append(Relationship(lib_folder, \"_\", s_unit, weight=2))\n",
    "relation_list.append(Relationship(lib_folder, \"_\", kb_unit, weight=2))\n",
    "relation_list.append(Relationship(lib_folder, \"_\", k_unit, weight=2))\n",
    "\n",
    "relation_list.append(Relationship(mission_block, \"ATTRIBUTE\", gs_part, weight=1))\n",
    "relation_list.append(Relationship(mission_block, \"ATTRIBUTE\", sc_part, weight=1))\n",
    "relation_list.append(Relationship(gs_part, \"TYPED\", gs_block, weight=1))\n",
    "relation_list.append(Relationship(sc_part, \"TYPED\", sc_block, weight=1))\n",
    "\n",
    "relation_list.append(Relationship(gs_block, \"_\", antenna_block, weight=2))\n",
    "relation_list.append(Relationship(gs_block, \"_\", tech_block, weight=2))\n",
    "relation_list.append(Relationship(gs_block, \"ATTRIBUTE\", antenna_part, weight=1))\n",
    "relation_list.append(Relationship(gs_block, \"ATTRIBUTE\", tech_part, weight=1))\n",
    "relation_list.append(Relationship(antenna_part, \"TYPED\", antenna_block, weight=1))\n",
    "relation_list.append(Relationship(tech_part, \"TYPED\", tech_block, weight=1))\n",
    "\n",
    "relation_list.append(Relationship(sc_block, \"_\", pannels_block, weight=2))\n",
    "relation_list.append(Relationship(sc_block, \"_\", computer_block, weight=2))\n",
    "relation_list.append(Relationship(sc_block, \"ATTRIBUTE\", pannels_part, weight=1))\n",
    "relation_list.append(Relationship(sc_block, \"ATTRIBUTE\", computer_part, weight=1))\n",
    "relation_list.append(Relationship(pannels_part, \"TYPED\", pannels_block, weight=1))\n",
    "relation_list.append(Relationship(computer_part, \"TYPED\", computer_block, weight=1))\n",
    "relation_list.append(Relationship(computer_block, \"ATTRIBUTE\", speed_val, weight=1))\n",
    "relation_list.append(Relationship(speed_val, \"TYPED\", kb_unit, weight=1))"
   ]
  },
  {
   "cell_type": "code",
   "execution_count": 6,
   "metadata": {},
   "outputs": [],
   "source": [
    "for node in node_list:\n",
    "    graph.create(node)\n",
    "for relation in relation_list:\n",
    "    graph.create(relation)"
   ]
  },
  {
   "cell_type": "markdown",
   "metadata": {},
   "source": [
    "## Workflow"
   ]
  },
  {
   "cell_type": "code",
   "execution_count": 7,
   "metadata": {},
   "outputs": [],
   "source": [
    "model = Model(graph, 0.045)"
   ]
  },
  {
   "cell_type": "markdown",
   "metadata": {},
   "source": [
    "## Loop to match all the requirements"
   ]
  },
  {
   "cell_type": "code",
   "execution_count": 8,
   "metadata": {},
   "outputs": [
    {
     "name": "stdout",
     "output_type": "stream",
     "text": [
      "... CONTEXT MATCH:  The spacecraft Spacecraft Vehicle (_288:Block {name: 'Mission', uuid: '9'})\n",
      "... SOURCE NODE MATCH:  The spacecraft Spacecraft Vehicle\n",
      "... CONTEXT MATCH:  The spacecraft Spacecraft Vehicle (_292:Block {name: 'Solar Pannel', uuid: '13'})\n",
      "... CONTEXT MATCH:  The spacecraft Spacecraft Vehicle (_293:Block {name: 'Main Computer', uuid: '14'})\n",
      "\n",
      "REQ TEXT:\n",
      "\t The spacecraft shall be able to transmit 100 kB in less than 300s.\n",
      "ALLOCATED NODE:\n",
      "\t--- Spacecraft Vehicle \n",
      "ALLOCATED NODE ATTRIBUTES: \n",
      "\t- Main Computer\n",
      "\t- Solar Pannel\n",
      "\t- Mission\n",
      "\n",
      "Execution time:  0.033242225646972656\n",
      "___________________\n",
      "\n",
      "... CONTEXT MATCH:  The main antenna Main Antenna (_283:Block {name: 'Ground Station', uuid: '4'})\n",
      "... SOURCE NODE MATCH:  the ground station Ground Station\n",
      "... SOURCE NODE MATCH:  The main antenna Main Antenna\n",
      "... CONTEXT MATCH:  the ground station Ground Station (_284:Block {name: 'Main Antenna', uuid: '5'})\n",
      "... CONTEXT MATCH:  the ground station Ground Station (_285:Block {name: 'Technician', uuid: '6'})\n",
      "... CONTEXT MATCH:  the ground station Ground Station (_288:Block {name: 'Mission', uuid: '9'})\n",
      "... CONTEXT MATCH:  the spacecraft vehicle Spacecraft Vehicle (_288:Block {name: 'Mission', uuid: '9'})\n",
      "... SOURCE NODE MATCH:  the spacecraft vehicle Spacecraft Vehicle\n",
      "... CONTEXT MATCH:  the spacecraft vehicle Spacecraft Vehicle (_292:Block {name: 'Solar Pannel', uuid: '13'})\n",
      "... CONTEXT MATCH:  the spacecraft vehicle Spacecraft Vehicle (_293:Block {name: 'Main Computer', uuid: '14'})\n",
      "\n",
      "REQ TEXT:\n",
      "\t The main antenna of the ground station shall be oriented towards the spacecraft vehicle at least 8 hours per sol.\n",
      "ALLOCATED NODE:\n",
      "\t--- Ground Station \n",
      "ALLOCATED NODE ATTRIBUTES: \n",
      "\t- Technician\n",
      "\t- Main Antenna\n",
      "\t- Mission\n",
      "\n",
      "Execution time:  0.03444981575012207\n",
      "___________________\n",
      "\n",
      "... CONTEXT MATCH:  The solar pannels Solar Pannel (_291:Block {name: 'Spacecraft Vehicle', uuid: '12'})\n",
      "... SOURCE NODE MATCH:  The solar pannels Solar Pannel\n",
      "\n",
      "REQ TEXT:\n",
      "\t The solar pannels shall be exposed to the sun at least 40% of a given sol.\n",
      "ALLOCATED NODE:\n",
      "\t--- Solar Pannel \n",
      "ALLOCATED NODE ATTRIBUTES: \n",
      "\t- Spacecraft Vehicle\n",
      "\n",
      "Execution time:  0.03499794006347656\n",
      "___________________\n",
      "\n",
      "... CONTEXT MATCH:  the main computer Main Computer (_291:Block {name: 'Spacecraft Vehicle', uuid: '12'})\n",
      "... SOURCE NODE MATCH:  the main computer Main Computer\n",
      "\n",
      "REQ TEXT:\n",
      "\t The temperature of the main computer shall be comprised between 300 K and 370 K.\n",
      "ALLOCATED NODE:\n",
      "\t--- Main Computer \n",
      "ALLOCATED NODE ATTRIBUTES: \n",
      "\t- kB\n",
      "\t- Spacecraft Vehicle\n",
      "\n",
      "Execution time:  0.031793832778930664\n",
      "___________________\n",
      "\n",
      "... SOURCE NODE MATCH:  The ground station Ground Station\n",
      "... CONTEXT MATCH:  The ground station Ground Station (_284:Block {name: 'Main Antenna', uuid: '5'})\n",
      "... CONTEXT MATCH:  The ground station Ground Station (_285:Block {name: 'Technician', uuid: '6'})\n",
      "... CONTEXT MATCH:  The ground station Ground Station (_288:Block {name: 'Mission', uuid: '9'})\n",
      "\n",
      "REQ TEXT:\n",
      "\t The ground station shall be populated with at least 2 technicians at any given time.\n",
      "ALLOCATED NODE:\n",
      "\t--- Ground Station \n",
      "ALLOCATED NODE ATTRIBUTES: \n",
      "\t- Technician\n",
      "\t- Main Antenna\n",
      "\t- Mission\n",
      "\n",
      "Execution time:  0.035707950592041016\n",
      "___________________\n",
      "\n",
      "\n",
      "Total matching execution time:  1.583287239074707\n"
     ]
    }
   ],
   "source": [
    "time1 = time.time()\n",
    "matcher = NodeMatcher(graph)\n",
    "nodematcher = matcher.match(\"Requirement\")\n",
    "\n",
    "req_object_list=[]\n",
    "\n",
    "for req_node in nodematcher:\n",
    "    time2 = time.time()\n",
    "    \n",
    "    req_object = model.create_req_object(req_node)\n",
    "    req_object.init_req_nodes()\n",
    "    \n",
    "    allocated_context = req_object.context_cluster_mapping()\n",
    "    \n",
    "    if allocated_context!=None:\n",
    "        rel = Relationship(req_object.node, \"ALLOCATED\", allocated_context.source_node, weight=1)\n",
    "        graph.create(rel)\n",
    "        print('\\nREQ TEXT:\\n\\t', req_node['req_text'])\n",
    "        print('ALLOCATED NODE:\\n\\t---', allocated_context.source_node['name'], '\\nALLOCATED NODE ATTRIBUTES: ')\n",
    "        for el in allocated_context.context:\n",
    "            print('\\t-', el['name'])\n",
    "        print('\\nExecution time: ', time.time()-time2)\n",
    "        print('___________________\\n')\n",
    "        \n",
    "\n",
    "    req_object.match_req_tokens(pos_list=[\"NOUN\", \"PROPN\", \"NUM\"], relationship_filter='ATTRIBUTE|TYPED|ALLOCATED>|_', label_filter='-ReqPhrase', min_level=1, max_level=8, weighted_depth_limit=8)\n",
    "    \n",
    "    model.append_req_graph(req_object)\n",
    "    model.link_matches(req_object.transclusion_relations)\n",
    "    \n",
    "    req_object_list.append(req_object)\n",
    "print(\"\\nTotal matching execution time: \", time.time()-time1)"
   ]
  },
  {
   "cell_type": "code",
   "execution_count": 9,
   "metadata": {},
   "outputs": [
    {
     "name": "stdout",
     "output_type": "stream",
     "text": [
      "\n",
      "Data Transmission ---> <cref id='root::Structure::Spacecraft Vehicle'>The spacecraft</cref> shall be able to transmit 100 <cref id='root::Libraries::kB'>kB</cref> in less than 300s .\n",
      "\n",
      "Antenna Orientation ---> <cref id='root::Structure::Ground Station::antenna'>The main antenna</cref> of <cref id='root::Structure::Ground Station'>the ground station</cref> shall be oriented towards <cref id='root::Structure::Mission::spacecraftVehicle'>the spacecraft vehicle</cref> at least 8 hours per sol .\n",
      "\n",
      "Solar Pannel Exposure ---> <cref id='root::Requirements::Solar Pannel Exposure::Solar Pannel'>The solar pannels</cref> shall be exposed to the sun at least 40% of a given sol .\n",
      "\n",
      "Main Computer Temperature ---> The temperature of <cref id='root::Requirements::Main Computer Temperature::Main Computer'>the main computer</cref> shall be comprised between 300 K and 370 K.\n",
      "\n",
      "Main Computer Storage ---> The main computer storage capacity shall not exceed 90% at any given time .\n",
      "\n",
      "Ground Station Population ---> <cref id='root::Structure::Ground Station'>The ground station</cref> shall be populated with at least 2 technicians at any given time .\n"
     ]
    }
   ],
   "source": [
    "for req_object in req_object_list:\n",
    "    req_object.init_transcluded_text()\n",
    "    print(req_object.name, \"--->\", req_object.transcluded_text)"
   ]
  },
  {
   "cell_type": "code",
   "execution_count": null,
   "metadata": {},
   "outputs": [],
   "source": []
  },
  {
   "cell_type": "markdown",
   "metadata": {},
   "source": [
    "# Queries"
   ]
  },
  {
   "cell_type": "markdown",
   "metadata": {},
   "source": [
    "## Isolate a requirement"
   ]
  },
  {
   "cell_type": "markdown",
   "metadata": {},
   "source": [
    "match (n) where (n:Unit or n:Folder or n:Block or n:Part_Property)\n",
    "match path=((r:Requirement {name: 'Antenna Orientation'})-[:IS]->()-[:IS_COMPOSED_OF]->())\n",
    "return n, r, nodes(path)"
   ]
  },
  {
   "cell_type": "markdown",
   "metadata": {},
   "source": [
    "#### apoc\n",
    "MATCH (r:Requirement {name: 'Antenna Orientation'}) \n",
    "CALL apoc.path.spanningTree(r, {relationshipFilter:\"PART|_|ALLOCATED>|TYPED>\", minLevel:1, maxLevel:3}) yield path return path"
   ]
  },
  {
   "cell_type": "code",
   "execution_count": 10,
   "metadata": {},
   "outputs": [],
   "source": [
    "cursor = graph.run(\"\"\"MATCH (n:Requirement {name: 'Antenna Orientation'})\n",
    "CALL apoc.path.spanningTree(n, {relationshipFilter:'ALLOCATED>|TYPED|PART|_', labelFilter:'', minLevel:1, maxLevel:6}) YIELD path\n",
    "WITH last(nodes(path)) as node, reduce(weight = 0, rel IN relationships(path) | weight+rel.weight) as depth\n",
    "WHERE depth<7\n",
    "WITH depth, collect(node) as nodes_at_depth\n",
    "ORDER BY depth ASC\n",
    "RETURN nodes_at_depth, depth\"\"\")"
   ]
  }
 ],
 "metadata": {
  "kernelspec": {
   "display_name": "Python [conda env:cref]",
   "language": "python",
   "name": "conda-env-cref-py"
  },
  "language_info": {
   "codemirror_mode": {
    "name": "ipython",
    "version": 3
   },
   "file_extension": ".py",
   "mimetype": "text/x-python",
   "name": "python",
   "nbconvert_exporter": "python",
   "pygments_lexer": "ipython3",
   "version": "3.7.6"
  }
 },
 "nbformat": 4,
 "nbformat_minor": 4
}
