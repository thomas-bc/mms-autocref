{
 "cells": [
  {
   "cell_type": "code",
   "execution_count": 1,
   "metadata": {},
   "outputs": [],
   "source": [
    "import iqs_client\n",
    "from iqs_client import QueryExecutionApi, QueriesApi\n",
    "\n",
    "from py2neo import Node, Relationship, Graph, Subgraph"
   ]
  },
  {
   "cell_type": "code",
   "execution_count": 2,
   "metadata": {},
   "outputs": [],
   "source": [
    "import time\n",
    "import json\n",
    "import getpass"
   ]
  },
  {
   "cell_type": "code",
   "execution_count": 3,
   "metadata": {},
   "outputs": [
    {
     "name": "stdin",
     "output_type": "stream",
     "text": [
      " ······················\n"
     ]
    }
   ],
   "source": [
    "configuration = iqs_client.Configuration()\n",
    "configuration.username='chammard'\n",
    "configuration.password=getpass.getpass()\n",
    "configuration.host='http://cae-incquery-uat.jpl.nasa.gov:47700/api'\n",
    "api_client=iqs_client.ApiClient(configuration)"
   ]
  },
  {
   "cell_type": "code",
   "execution_count": 4,
   "metadata": {},
   "outputs": [],
   "source": [
    "query_api=QueryExecutionApi(api_client=api_client)"
   ]
  },
  {
   "cell_type": "code",
   "execution_count": 5,
   "metadata": {},
   "outputs": [],
   "source": [
    "graph = Graph(bolt='bolt://localhost:7687/db/data', password=\"password\")"
   ]
  },
  {
   "cell_type": "code",
   "execution_count": 6,
   "metadata": {},
   "outputs": [
    {
     "data": {
      "text/plain": []
     },
     "execution_count": 6,
     "metadata": {},
     "output_type": "execute_result"
    }
   ],
   "source": [
    "# Empty graph\n",
    "# graph.run(\"MATCH (n) DETACH DELETE n\")"
   ]
  },
  {
   "cell_type": "code",
   "execution_count": 7,
   "metadata": {},
   "outputs": [],
   "source": [
    "body = \"\"\"{{\n",
    "  \"modelCompartment\": {{\n",
    "    \"compartmentURI\": \"twc-index:/workspaces/3d9fe728-a0b3-40e7-9f47-0af95488684e/resources/fd5cf2ca-7357-402c-835d-d066acadf2f5/branches/eb3b9468-78b2-45ba-821b-ade97d9c3570/revisions/6\"\n",
    "  }},\n",
    "  \"queryFQN\": \"cref.test.{query}\"\n",
    "}}\"\"\""
   ]
  },
  {
   "cell_type": "markdown",
   "metadata": {},
   "source": [
    "## Nodes"
   ]
  },
  {
   "cell_type": "code",
   "execution_count": 8,
   "metadata": {},
   "outputs": [],
   "source": [
    "node_response = query_api.execute_query_on_model_compartment(json.loads(body.format(query=\"getNamespaces2\")))\n",
    "\n",
    "node_dict = dict()"
   ]
  },
  {
   "cell_type": "code",
   "execution_count": 9,
   "metadata": {},
   "outputs": [],
   "source": [
    "for match in node_response.to_dict()['matches']:\n",
    "    uuid = match['arguments'][0]['value']['relativeElementID']\n",
    "    name = match['arguments'][1]['value']\n",
    "    element_type = match['arguments'][2]['value']\n",
    "    if uuid not in node_dict:\n",
    "        node_dict[uuid] = Node(element_type, uuid=uuid, name=name)\n",
    "    else:\n",
    "        node_dict[uuid].add_label(element_type)"
   ]
  },
  {
   "cell_type": "code",
   "execution_count": 10,
   "metadata": {},
   "outputs": [],
   "source": [
    "no_label_resp = query_api.execute_query_on_model_compartment(json.loads(body.format(query=\"getNamespacesNoStereotype\")))\n",
    "\n",
    "for match in no_label_resp.to_dict()['matches']:\n",
    "    uuid = match['arguments'][0]['value']['relativeElementID']\n",
    "    name = match['arguments'][1]['value']\n",
    "    node_dict[uuid] = Node(\"NoAppliedStereotype\", uuid=uuid, name=name)"
   ]
  },
  {
   "cell_type": "markdown",
   "metadata": {},
   "source": [
    "## Edges"
   ]
  },
  {
   "cell_type": "code",
   "execution_count": 11,
   "metadata": {},
   "outputs": [],
   "source": [
    "edge_response = query_api.execute_query_on_model_compartment(json.loads(body.format(query=\"getNamespaceRelations\")))\n",
    "\n",
    "edge_list = []"
   ]
  },
  {
   "cell_type": "code",
   "execution_count": 12,
   "metadata": {},
   "outputs": [],
   "source": [
    "for match in edge_response.to_dict()['matches']:\n",
    "    source_uuid = match['arguments'][0]['value']['relativeElementID']\n",
    "    target_uuid = match['arguments'][1]['value']['relativeElementID']\n",
    "    try:\n",
    "        edge_list.append(Relationship(node_dict[source_uuid], \"Edge\", node_dict[target_uuid], weight=1))\n",
    "    except:\n",
    "        pass"
   ]
  },
  {
   "cell_type": "markdown",
   "metadata": {},
   "source": [
    "### Part Properties"
   ]
  },
  {
   "cell_type": "code",
   "execution_count": 13,
   "metadata": {},
   "outputs": [],
   "source": [
    "parts_response = query_api.execute_query_on_model_compartment(json.loads(body.format(query=\"getPartProperties\")))"
   ]
  },
  {
   "cell_type": "code",
   "execution_count": 14,
   "metadata": {},
   "outputs": [],
   "source": [
    "for match in parts_response.to_dict()['matches']:\n",
    "    part_uuid = match['arguments'][0]['value']['relativeElementID']\n",
    "    part_name = match['arguments'][1]['value']\n",
    "    owner_uuid = match['arguments'][2]['value']['relativeElementID']\n",
    "    type_uuid = match['arguments'][4]['value']['relativeElementID']\n",
    "\n",
    "    node_dict[part_uuid] = Node(\"PartProperty\", uuid=part_uuid, name=part_name)\n",
    "    \n",
    "    if (type_uuid not in node_dict) or (owner_uuid not in node_dict):\n",
    "        raise ValueError(\"Error: Either type or owner is not yet in the graph\")\n",
    "    \n",
    "    edge_list.append(Relationship(node_dict[owner_uuid], \"ATTRIBUTE\", node_dict[part_uuid], weight=1))\n",
    "    edge_list.append(Relationship(node_dict[part_uuid], \"TYPED\", node_dict[type_uuid], weight=1))"
   ]
  },
  {
   "cell_type": "markdown",
   "metadata": {},
   "source": [
    "### Reference Properties"
   ]
  },
  {
   "cell_type": "code",
   "execution_count": 15,
   "metadata": {},
   "outputs": [],
   "source": [
    "reference_response = query_api.execute_query_on_model_compartment(json.loads(body.format(query=\"getReferenceProperties\")))"
   ]
  },
  {
   "cell_type": "code",
   "execution_count": 16,
   "metadata": {},
   "outputs": [],
   "source": [
    "for match in reference_response.to_dict()['matches']:\n",
    "    prop_uuid = match['arguments'][0]['value']['relativeElementID']\n",
    "    prop_name = match['arguments'][1]['value']\n",
    "    owner_uuid = match['arguments'][2]['value']['relativeElementID']\n",
    "    type_uuid = match['arguments'][4]['value']['relativeElementID']\n",
    "\n",
    "    node_dict[prop_uuid] = Node(\"PartProperty\", uuid=prop_uuid, name=prop_name)\n",
    "    \n",
    "    if (type_uuid not in node_dict) or (owner_uuid not in node_dict):\n",
    "        print(type_uuid, owner_uuid)\n",
    "        raise ValueError(\"Error: Either type or owner is not yet in the graph\")\n",
    "    \n",
    "    edge_list.append(Relationship(node_dict[owner_uuid], \"ATTRIBUTE\", node_dict[prop_uuid], weight=1))\n",
    "    edge_list.append(Relationship(node_dict[prop_uuid], \"TYPED\", node_dict[type_uuid], weight=1))"
   ]
  },
  {
   "cell_type": "markdown",
   "metadata": {},
   "source": [
    "### Value Properties"
   ]
  },
  {
   "cell_type": "code",
   "execution_count": 17,
   "metadata": {},
   "outputs": [],
   "source": [
    "value_response = query_api.execute_query_on_model_compartment(json.loads(body.format(query=\"getValueProperties\")))"
   ]
  },
  {
   "cell_type": "markdown",
   "metadata": {},
   "source": [
    "WARNING: Libraries of value type are not included in the query.\\\n",
    "Quickfix was to create it manually from the IQS response, but it is not included in the \"structure\" of the model."
   ]
  },
  {
   "cell_type": "code",
   "execution_count": 18,
   "metadata": {},
   "outputs": [
    {
     "name": "stdout",
     "output_type": "stream",
     "text": [
      "cb9c4145-c43a-4457-b7e3-597b21cf9ada Integer\n",
      "410e7cbd-cf5f-4e44-929f-c9cf6ed7f359 Real\n",
      "55bc3750-0764-40c0-b527-18b101cfbbdb m\n",
      "33f0a215-9001-4971-b8be-3417fb727403 W\n",
      "72a37f5d-d1e3-4235-92a5-d7ee568d8a95 s\n",
      "208ec2fe-d94c-48f7-a479-188137ea8255 Boolean\n"
     ]
    }
   ],
   "source": [
    "for match in value_response.to_dict()['matches']:\n",
    "    prop_uuid = match['arguments'][0]['value']['relativeElementID']\n",
    "    prop_name = match['arguments'][1]['value']\n",
    "    owner_uuid = match['arguments'][2]['value']['relativeElementID']\n",
    "    value_type_uuid = match['arguments'][4]['value']['relativeElementID']\n",
    "    value_type_name = match['arguments'][5]['value']\n",
    "\n",
    "    node_dict[prop_uuid] = Node(\"ValueProperty\", uuid=prop_uuid, name=prop_name)\n",
    "    \n",
    "    if value_type_uuid not in node_dict:\n",
    "        print(value_type_uuid, value_type_name)\n",
    "        node_dict[value_type_uuid] = Node(\"ValueType\",  uuid=value_type_uuid, name=value_type_name)\n",
    "    \n",
    "    if (value_type_uuid not in node_dict) or (owner_uuid not in node_dict):\n",
    "        raise ValueError(\"Error: Either type or owner is not yet in the graph\")\n",
    "\n",
    "    edge_list.append(Relationship(node_dict[owner_uuid], \"ATTRIBUTE\", node_dict[prop_uuid], weight=1))\n",
    "    edge_list.append(Relationship(node_dict[prop_uuid], \"TYPED\", node_dict[value_type_uuid], weight=1))\n"
   ]
  },
  {
   "cell_type": "markdown",
   "metadata": {},
   "source": [
    "### Get default values"
   ]
  },
  {
   "cell_type": "code",
   "execution_count": 19,
   "metadata": {},
   "outputs": [],
   "source": [
    "default_value_response = query_api.execute_query_on_model_compartment(json.loads(body.format(query=\"getValuePropertiesDefaultStar2\")))"
   ]
  },
  {
   "cell_type": "code",
   "execution_count": 20,
   "metadata": {},
   "outputs": [],
   "source": [
    "for match in default_value_response.to_dict()['matches']:\n",
    "    prop_uuid = match['arguments'][0]['value']['relativeElementID']\n",
    "    prop_name = match['arguments'][1]['value']\n",
    "    default_value = match['arguments'][2]['value']\n",
    "    value_type_name = match['arguments'][3]['value']\n",
    "\n",
    "    node_dict['defaultVal' + prop_uuid] = Node(\"DefaultValue\", default_value=default_value, value_type=value_type_name)\n",
    "    \n",
    "    edge_list.append(Relationship(node_dict[prop_uuid], \"DEFAULT\", node_dict['defaultVal' + prop_uuid], weight=1))"
   ]
  },
  {
   "cell_type": "markdown",
   "metadata": {},
   "source": [
    "### Requirement text"
   ]
  },
  {
   "cell_type": "code",
   "execution_count": 21,
   "metadata": {},
   "outputs": [],
   "source": [
    "req_text_response = query_api.execute_query_on_model_compartment(json.loads(body.format(query=\"getRequirementText2\")))"
   ]
  },
  {
   "cell_type": "code",
   "execution_count": 22,
   "metadata": {},
   "outputs": [],
   "source": [
    "for match in req_text_response.to_dict()['matches']:\n",
    "    req_uuid = match['arguments'][0]['value']['relativeElementID']\n",
    "    req_text = match['arguments'][1]['value']\n",
    "    \n",
    "    # Add to the requirement node in node_dict the req_text property\n",
    "    node_dict[req_uuid]['req_text'] = req_text"
   ]
  },
  {
   "cell_type": "code",
   "execution_count": 23,
   "metadata": {},
   "outputs": [],
   "source": [
    "with open(\"test.csv\", \"a\") as myfile:\n",
    "    for match in req_text_response.to_dict()['matches']:\n",
    "        req_uuid = match['arguments'][0]['value']['relativeElementID']\n",
    "        req_text = match['arguments'][1]['value']\n",
    "        myfile.write(req_uuid + ',' + req_text + '\\n')"
   ]
  },
  {
   "cell_type": "markdown",
   "metadata": {},
   "source": [
    "### Activities"
   ]
  },
  {
   "cell_type": "code",
   "execution_count": 24,
   "metadata": {},
   "outputs": [],
   "source": [
    "activities_response = query_api.execute_query_on_model_compartment(json.loads(body.format(query=\"getActivities\")))"
   ]
  },
  {
   "cell_type": "code",
   "execution_count": 25,
   "metadata": {},
   "outputs": [],
   "source": [
    "for match in activities_response.to_dict()['matches']:\n",
    "    activity_uuid = match['arguments'][0]['value']['relativeElementID']\n",
    "    activity_node_uuid = match['arguments'][2]['value']['relativeElementID']\n",
    "    activity_node_name = match['arguments'][3]['value']\n",
    "    \n",
    "    node_dict[activity_uuid].add_label('Activity')\n",
    "    \n",
    "    if activity_node_uuid in node_dict:\n",
    "        node_dict[activity_node_uuid].add_label('ActivityNode')\n",
    "    else:\n",
    "        node_dict[activity_node_uuid] = Node('ActivityNode', uuid=activity_node_uuid, name=activity_node_name)\n",
    "        \n",
    "    edge_list.append(Relationship(node_dict[activity_uuid], \"ACTIVITY_NODE\", node_dict[activity_node_uuid]))"
   ]
  },
  {
   "cell_type": "markdown",
   "metadata": {},
   "source": [
    "### Call Behaviors"
   ]
  },
  {
   "cell_type": "code",
   "execution_count": 26,
   "metadata": {},
   "outputs": [],
   "source": [
    "behavior_response = query_api.execute_query_on_model_compartment(json.loads(body.format(query=\"getBehaviors9\")))"
   ]
  },
  {
   "cell_type": "code",
   "execution_count": 27,
   "metadata": {},
   "outputs": [],
   "source": [
    "for match in behavior_response.to_dict()['matches']:\n",
    "    call_behavior_uuid = match['arguments'][0]['value']['relativeElementID']\n",
    "    call_behavior_name = match['arguments'][1]['value']\n",
    "    behavior_uuid = match['arguments'][2]['value']['relativeElementID']\n",
    "    \n",
    "    if call_behavior_uuid in node_dict:\n",
    "        node_dict[call_behavior_uuid].add_label('CallBehaviorAction')\n",
    "    else:\n",
    "        node_dict[call_behavior_uuid] = Node('CallBehaviorAction', uuid=call_behavior_uuid, name=call_behavior_name)\n",
    "        \n",
    "    node_dict[behavior_uuid].add_label('Behavior')\n",
    "    \n",
    "    edge_list.append(Relationship(node_dict[call_behavior_uuid], \"CALLS\", node_dict[behavior_uuid]))"
   ]
  },
  {
   "cell_type": "markdown",
   "metadata": {},
   "source": [
    "### Behaviored Classifiers"
   ]
  },
  {
   "cell_type": "code",
   "execution_count": 28,
   "metadata": {},
   "outputs": [],
   "source": [
    "behavior_classif_response = query_api.execute_query_on_model_compartment(json.loads(body.format(query=\"getBehavioredClassifiers\")))"
   ]
  },
  {
   "cell_type": "code",
   "execution_count": 29,
   "metadata": {},
   "outputs": [],
   "source": [
    "for match in behavior_classif_response.to_dict()['matches']:\n",
    "    classifier_uuid = match['arguments'][0]['value']['relativeElementID']\n",
    "    behavior_uuid = match['arguments'][2]['value']['relativeElementID']\n",
    "    \n",
    "    edge_list.append(Relationship(node_dict[classifier_uuid], \"CLASSIFIER_BEHAVIOR\", node_dict[behavior_uuid]))"
   ]
  },
  {
   "cell_type": "code",
   "execution_count": null,
   "metadata": {},
   "outputs": [],
   "source": []
  },
  {
   "cell_type": "code",
   "execution_count": 30,
   "metadata": {},
   "outputs": [
    {
     "data": {
      "text/plain": [
       "1589588667.755264"
      ]
     },
     "execution_count": 30,
     "metadata": {},
     "output_type": "execute_result"
    }
   ],
   "source": [
    "time.time()"
   ]
  },
  {
   "cell_type": "markdown",
   "metadata": {},
   "source": [
    "## Create graph"
   ]
  },
  {
   "cell_type": "code",
   "execution_count": 31,
   "metadata": {},
   "outputs": [
    {
     "name": "stdout",
     "output_type": "stream",
     "text": [
      "create exec time:  240.34903383255005\n"
     ]
    }
   ],
   "source": [
    "time1 = time.time()\n",
    "for node in node_dict.values():\n",
    "    try:\n",
    "        graph.create(node)\n",
    "    except:\n",
    "        print(node)\n",
    "for edge in edge_list:\n",
    "    graph.create(edge)\n",
    "print('create exec time: ', time.time()-time1)"
   ]
  },
  {
   "cell_type": "code",
   "execution_count": null,
   "metadata": {},
   "outputs": [],
   "source": []
  }
 ],
 "metadata": {
  "kernelspec": {
   "display_name": "Python [conda env:cref]",
   "language": "python",
   "name": "conda-env-cref-py"
  },
  "language_info": {
   "codemirror_mode": {
    "name": "ipython",
    "version": 3
   },
   "file_extension": ".py",
   "mimetype": "text/x-python",
   "name": "python",
   "nbconvert_exporter": "python",
   "pygments_lexer": "ipython3",
   "version": "3.7.6"
  }
 },
 "nbformat": 4,
 "nbformat_minor": 4
}
