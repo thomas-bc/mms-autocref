{
 "cells": [
  {
   "cell_type": "code",
   "execution_count": 1,
   "metadata": {},
   "outputs": [],
   "source": [
    "%load_ext autoreload\n",
    "%autoreload 2"
   ]
  },
  {
   "cell_type": "code",
   "execution_count": 2,
   "metadata": {},
   "outputs": [
    {
     "name": "stdout",
     "output_type": "stream",
     "text": [
      "env: NEPTUNE_CLUSTER_ENDPOINT=ec2-18-224-170-154.us-east-2.compute.amazonaws.com\n",
      "env: NEPTUNE_CLUSTER_PORT=8182\n",
      "gremlin: ws://ec2-18-224-170-154.us-east-2.compute.amazonaws.com:8182/gremlin\n"
     ]
    }
   ],
   "source": [
    "%run 'req_analysis/neptune-util.py'\n",
    "%env NEPTUNE_CLUSTER_ENDPOINT=ec2-18-224-170-154.us-east-2.compute.amazonaws.com\n",
    "%env NEPTUNE_CLUSTER_PORT=8182\n",
    "g = neptune.graphTraversal()"
   ]
  },
  {
   "cell_type": "code",
   "execution_count": 3,
   "metadata": {},
   "outputs": [],
   "source": [
    "import random"
   ]
  },
  {
   "cell_type": "code",
   "execution_count": 4,
   "metadata": {},
   "outputs": [],
   "source": [
    "import scipy\n",
    "import scipy.spatial.distance as ssd"
   ]
  },
  {
   "cell_type": "code",
   "execution_count": 5,
   "metadata": {},
   "outputs": [],
   "source": [
    "from paris import paris\n",
    "from paris.utils import *"
   ]
  },
  {
   "cell_type": "code",
   "execution_count": 6,
   "metadata": {},
   "outputs": [],
   "source": [
    "import matplotlib.pyplot as plt\n",
    "import networkx as nx"
   ]
  },
  {
   "cell_type": "code",
   "execution_count": 7,
   "metadata": {},
   "outputs": [],
   "source": [
    "import time\n",
    "\n",
    "from req_analysis import Requirement"
   ]
  },
  {
   "cell_type": "code",
   "execution_count": 8,
   "metadata": {},
   "outputs": [],
   "source": [
    "from SPARQLWrapper import SPARQLWrapper, JSON\n",
    "\n",
    "sparql = SPARQLWrapper(\"http://ec2-18-224-170-154.us-east-2.compute.amazonaws.com:3001/sparql\")"
   ]
  },
  {
   "cell_type": "code",
   "execution_count": 15,
   "metadata": {},
   "outputs": [],
   "source": [
    "queryString = \"\"\"prefix rdf: <http://www.w3.org/1999/02/22-rdf-syntax-ns#>\n",
    "prefix rdfs: <http://www.w3.org/2000/01/rdf-schema#>\n",
    "prefix owl: <http://www.w3.org/2002/07/owl#>\n",
    "prefix xsd: <http://www.w3.org/2001/XMLSchema#>\n",
    "prefix xml: <http://www.w3.org/XML/1998/namespace/>\n",
    "prefix mms-ontology: <https://opencae.jpl.nasa.gov/mms/rdf/ontology/>\n",
    "prefix mms-graph: <https://opencae.jpl.nasa.gov/mms/rdf/graph/>\n",
    "prefix mms-property: <https://opencae.jpl.nasa.gov/mms/rdf/property/>\n",
    "prefix mms-class: <https://opencae.jpl.nasa.gov/mms/rdf/class/>\n",
    "prefix mms-element: <https://opencae.jpl.nasa.gov/mms/rdf/element/>\n",
    "prefix mms-artifact: <https://opencae.jpl.nasa.gov/mms/rdf/artifact/>\n",
    "prefix mms-index: <https://opencae.jpl.nasa.gov/mms/rdf/index/>\n",
    "prefix xmi: <http://www.omg.org/spec/XMI/20131001#>\n",
    "prefix uml: <http://www.omg.org/spec/UML/20161101#>\n",
    "prefix uml-model: <https://www.omg.org/spec/UML/20161101/UML.xmi#>\n",
    "prefix uml-primitives: <https://www.omg.org/spec/UML/20161101/PrimitiveTypes.xmi#>\n",
    "prefix uml-class: <https://opencae.jpl.nasa.gov/mms/rdf/uml-class/>\n",
    "prefix uml-property: <https://opencae.jpl.nasa.gov/mms/rdf/uml-property/>\n",
    "\n",
    "select * from mms-graph:data.tmt {\n",
    "    ?subject ?edge ?str .\n",
    "\n",
    "    values ?edge {\n",
    "        mms-property:bodyStringFromComment\n",
    "        mms-property:valueString\n",
    "    }\n",
    "    \n",
    "    filter(contains(?str, \"REQ-\") && strlen(?str) > 20)\n",
    "    # filter(isLiteral(?str) && ?str != \"\")\n",
    "    \n",
    "    values ?subject { mms-element:_831_331c90b6-9e17-4c46-8530-0fc345e0a22f_asi-slot-_11_5EAPbeta_be00301_1147873226632_528960_2311-slotvalue-0-literalstring }\n",
    "}\n",
    "\"\"\""
   ]
  },
  {
   "cell_type": "code",
   "execution_count": 10,
   "metadata": {},
   "outputs": [],
   "source": [
    "queryElements = \"\"\"prefix rdf: <http://www.w3.org/1999/02/22-rdf-syntax-ns#>\n",
    "prefix rdfs: <http://www.w3.org/2000/01/rdf-schema#>\n",
    "prefix owl: <http://www.w3.org/2002/07/owl#>\n",
    "prefix xsd: <http://www.w3.org/2001/XMLSchema#>\n",
    "prefix xml: <http://www.w3.org/XML/1998/namespace/>\n",
    "prefix mms-ontology: <https://opencae.jpl.nasa.gov/mms/rdf/ontology/>\n",
    "prefix mms-graph: <https://opencae.jpl.nasa.gov/mms/rdf/graph/>\n",
    "prefix mms-property: <https://opencae.jpl.nasa.gov/mms/rdf/property/>\n",
    "prefix mms-class: <https://opencae.jpl.nasa.gov/mms/rdf/class/>\n",
    "prefix mms-element: <https://opencae.jpl.nasa.gov/mms/rdf/element/>\n",
    "prefix mms-artifact: <https://opencae.jpl.nasa.gov/mms/rdf/artifact/>\n",
    "prefix mms-index: <https://opencae.jpl.nasa.gov/mms/rdf/index/>\n",
    "prefix xmi: <http://www.omg.org/spec/XMI/20131001#>\n",
    "prefix uml: <http://www.omg.org/spec/UML/20161101#>\n",
    "prefix uml-model: <https://www.omg.org/spec/UML/20161101/UML.xmi#>\n",
    "prefix uml-primitives: <https://www.omg.org/spec/UML/20161101/PrimitiveTypes.xmi#>\n",
    "prefix uml-class: <https://opencae.jpl.nasa.gov/mms/rdf/uml-class/>\n",
    "prefix uml-property: <https://opencae.jpl.nasa.gov/mms/rdf/uml-property/>\n",
    "\n",
    "select * from mms-graph:data.tmt {\n",
    "    ?element a/rdfs:subClassOf* uml-class:Class\n",
    "    {\n",
    "        ?element rdfs:label ?label \n",
    "    } union {\n",
    "        ?element mms-property:name ?label\n",
    "    }\n",
    "    \n",
    "    filter(isLiteral(?label) && ?label != \"\")\n",
    "}\n",
    "\"\"\""
   ]
  },
  {
   "cell_type": "code",
   "execution_count": 11,
   "metadata": {},
   "outputs": [],
   "source": [
    "sparql.setQuery(queryElements)\n",
    "\n",
    "sparql.setReturnFormat(JSON)\n",
    "el_results = sparql.query().convert()"
   ]
  },
  {
   "cell_type": "code",
   "execution_count": 12,
   "metadata": {},
   "outputs": [],
   "source": [
    "model_elements = []\n",
    "for result in el_results[\"results\"][\"bindings\"]:\n",
    "#     print(result['element']['value'], result['label']['value'])\n",
    "    model_elements.append(dict(uri=result['element']['value'], name=result['label']['value']))"
   ]
  },
  {
   "cell_type": "code",
   "execution_count": 16,
   "metadata": {},
   "outputs": [],
   "source": [
    "sparql.setQuery(queryString)\n",
    "\n",
    "sparql.setReturnFormat(JSON)\n",
    "results = sparql.query().convert()"
   ]
  },
  {
   "cell_type": "markdown",
   "metadata": {},
   "source": [
    "## Gremlin queries:\n",
    "g.V('_16785_7fb36acc-eea1-4ebd-adb5-646dabb347e5').valueMap(True).toList()[0] \\\n",
    "keys: T.id, T.label, '_label'"
   ]
  },
  {
   "cell_type": "code",
   "execution_count": 14,
   "metadata": {},
   "outputs": [
    {
     "data": {
      "text/plain": [
       "{'subject': {'type': 'uri',\n",
       "  'value': 'https://opencae.jpl.nasa.gov/mms/rdf/element/_8f7cabc1-8e5f-4014-8c9c-7ff7b8b98955__1138_b37dc917-c880-48f6-9f29-c96f1876a87f_asi-slot-_18_0_2_b4c02e1_1422576771659_877428_84042-slotvalue-0-literalstring'},\n",
       " 'edge': {'type': 'uri',\n",
       "  'value': 'https://opencae.jpl.nasa.gov/mms/rdf/property/valueString'},\n",
       " 'str': {'type': 'literal',\n",
       "  'value': '<html><body>\\n<span xmlns=\"http://www.w3.org/1999/xhtml\">REQ-1-ORD-2750</span></body></html>'}}"
      ]
     },
     "execution_count": 14,
     "metadata": {},
     "output_type": "execute_result"
    }
   ],
   "source": [
    "(results[\"results\"][\"bindings\"][109])"
   ]
  },
  {
   "cell_type": "code",
   "execution_count": 21,
   "metadata": {},
   "outputs": [
    {
     "name": "stdout",
     "output_type": "stream",
     "text": [
      "Req ID:  https://opencae.jpl.nasa.gov/mms/rdf/element/_831_331c90b6-9e17-4c46-8530-0fc345e0a22f_asi-slot-_11_5EAPbeta_be00301_1147873226632_528960_2311-slotvalue-0-literalstring \n",
      "Req text: <html><body>\n",
      "<span xmlns=\"http://www.w3.org/1999/xhtml\"><strong>[REQ-1-OAD-0185]</strong> The Observatory Safety system decomposition element is defined as follows:<br/>Associated WBS element(s): TMT.TEL.CONT.OSS<br/>The Observatory Safety System (OSS) contributes to the enforcement of safe conditions throughout the summit facility by continuously monitoring the state of connected equipment, systems and sensors and taking appropriate action as soon as an unsafe condition is detected. It is independent from and supplementary to any safety systems and functionality that is contained within individual subsystems. Based on one or more Programmable Logic Controllers (PLCs), it will interface with connected subsystems via a dedicated safety rated fieldbus based on EtherNet/IP; monitor interlock requests and possibly a defined subset of additional signals from all connected subsystems; monitor the emergency stop switches located throughout the summit facility; manage safety interlock enforcement between sub-systems; provide a user interface that provides fault and interlock reporting and reset capabilities: communicate the safety state of all connected subsystems to, at a minimum, the Data Management System (DMS) &amp; Executive Software (ESW).<br/>The OSS includes the Global Safety Controller (GSC), remote I/O modules, the fieldbus network and associated networking components such as switches, a Human-Machine Interface (HMI), racks, enclosures, power supplies, network cabling,  and all associated PLC software. It does not include the Local Safety Controllers, fire suppression systems, emergency lighting or the individual emergency stop buttons’ wiring and mounting hardware. These are the responsibility of the individual subsystems.</span></body></html>\n",
      "[{'token': {'text': 'the Data Management System', 'pos': 'PROPN', 'token_id': 117}, 'model_element': {'uri': 'https://opencae.jpl.nasa.gov/mms/rdf/element/_16566_c270fe21-19e7-4d0d-aa3c-31b76ad6ca8b', 'name': 'Data Management System'}, 'score': 0.0013642900507215298}, {'token': {'text': 'the Data Management System', 'pos': 'PROPN', 'token_id': 117}, 'model_element': {'uri': 'https://opencae.jpl.nasa.gov/mms/rdf/element/_18_0_2_876026b_1427661004426_556776_143472', 'name': 'Data Management System'}, 'score': 0.0013642900507215298}, {'token': {'text': 'the Data Management System', 'pos': 'PROPN', 'token_id': 117}, 'model_element': {'uri': 'https://opencae.jpl.nasa.gov/mms/rdf/element/_18_0_5_baa02e2_1450821286717_64577_153095', 'name': 'Data Management System'}, 'score': 0.0013642900507215298}, {'token': {'text': 'Executive Software', 'pos': 'PROPN', 'token_id': 124}, 'model_element': {'uri': 'https://opencae.jpl.nasa.gov/mms/rdf/element/_17_0_2_3_41e01aa_1382542702961_630808_58999', 'name': 'Executive Software'}, 'score': -0.0}, {'token': {'text': 'network', 'pos': 'PROPN', 'token_id': 141}, 'model_element': {'uri': 'https://opencae.jpl.nasa.gov/mms/rdf/element/_18_0_6_876026b_1478280404909_609058_173008', 'name': 'Network'}, 'score': 1.5543122344752193e-17}, {'token': {'text': 'networking', 'pos': 'NOUN', 'token_id': 144}, 'model_element': {'uri': 'https://opencae.jpl.nasa.gov/mms/rdf/element/MMS_1456189351681_ad25f82c-607f-4103-83b1-75f605015749', 'name': 'Networking'}, 'score': -2.2204460492503126e-17}] \n",
      "___________\n",
      "180159 comparaisons\n",
      "Time:  9.00071096420288\n"
     ]
    }
   ],
   "source": [
    "time1 = time.time()\n",
    "for result in results[\"results\"][\"bindings\"]:\n",
    "#     if str.startswith(result[\"str\"][\"value\"], \"<html>\"):\n",
    "    req_object = Requirement(result[\"subject\"][\"value\"], result[\"str\"][\"value\"])\n",
    "    matches, c = req_object.match_req_tokens(model_elements, 0.0030)\n",
    "    if len(matches)>3:\n",
    "        print('Req ID: ', result[\"subject\"][\"value\"], '\\nReq text:' , (result[\"str\"][\"value\"]))\n",
    "        print(matches, '\\n___________')\n",
    "        print(c, 'comparaisons')\n",
    "        print('Time: ', time.time()-time1)\n",
    "        break"
   ]
  },
  {
   "cell_type": "code",
   "execution_count": 22,
   "metadata": {},
   "outputs": [
    {
     "name": "stdout",
     "output_type": "stream",
     "text": [
      "gremlin: ws://ec2-18-224-170-154.us-east-2.compute.amazonaws.com:8182/gremlin\n",
      "0 1\n",
      "{'uri': 'https://opencae.jpl.nasa.gov/mms/rdf/element/_16566_c270fe21-19e7-4d0d-aa3c-31b76ad6ca8b', 'name': 'Data Management System'} {'uri': 'https://opencae.jpl.nasa.gov/mms/rdf/element/_18_0_2_876026b_1427661004426_556776_143472', 'name': 'Data Management System'}\n",
      "FAILURE in  18.15122389793396 s:  \n",
      "_________\n",
      "0 2\n",
      "{'uri': 'https://opencae.jpl.nasa.gov/mms/rdf/element/_16566_c270fe21-19e7-4d0d-aa3c-31b76ad6ca8b', 'name': 'Data Management System'} {'uri': 'https://opencae.jpl.nasa.gov/mms/rdf/element/_18_0_5_baa02e2_1450821286717_64577_153095', 'name': 'Data Management System'}\n",
      "FAILURE in  19.048460006713867 s:  \n",
      "_________\n",
      "0 3\n",
      "{'uri': 'https://opencae.jpl.nasa.gov/mms/rdf/element/_16566_c270fe21-19e7-4d0d-aa3c-31b76ad6ca8b', 'name': 'Data Management System'} {'uri': 'https://opencae.jpl.nasa.gov/mms/rdf/element/_17_0_2_3_41e01aa_1382542702961_630808_58999', 'name': 'Executive Software'}\n",
      "FAILURE in  16.35107731819153 s:  \n",
      "_________\n",
      "0 4\n",
      "{'uri': 'https://opencae.jpl.nasa.gov/mms/rdf/element/_16566_c270fe21-19e7-4d0d-aa3c-31b76ad6ca8b', 'name': 'Data Management System'} {'uri': 'https://opencae.jpl.nasa.gov/mms/rdf/element/_18_0_6_876026b_1478280404909_609058_173008', 'name': 'Network'}\n",
      "FAILURE in  19.215301275253296 s:  \n",
      "_________\n",
      "0 5\n",
      "{'uri': 'https://opencae.jpl.nasa.gov/mms/rdf/element/_16566_c270fe21-19e7-4d0d-aa3c-31b76ad6ca8b', 'name': 'Data Management System'} {'uri': 'https://opencae.jpl.nasa.gov/mms/rdf/element/MMS_1456189351681_ad25f82c-607f-4103-83b1-75f605015749', 'name': 'Networking'}\n",
      "FAILURE in  16.236582040786743 s:  \n",
      "_________\n",
      "1 2\n",
      "{'uri': 'https://opencae.jpl.nasa.gov/mms/rdf/element/_18_0_2_876026b_1427661004426_556776_143472', 'name': 'Data Management System'} {'uri': 'https://opencae.jpl.nasa.gov/mms/rdf/element/_18_0_5_baa02e2_1450821286717_64577_153095', 'name': 'Data Management System'}\n",
      "\n",
      "SUCCESS in  0.24872803688049316 s  5\n",
      "_________\n",
      "1 3\n",
      "{'uri': 'https://opencae.jpl.nasa.gov/mms/rdf/element/_18_0_2_876026b_1427661004426_556776_143472', 'name': 'Data Management System'} {'uri': 'https://opencae.jpl.nasa.gov/mms/rdf/element/_17_0_2_3_41e01aa_1382542702961_630808_58999', 'name': 'Executive Software'}\n",
      "\n",
      "SUCCESS in  0.2821829319000244 s  5\n",
      "_________\n",
      "1 4\n",
      "{'uri': 'https://opencae.jpl.nasa.gov/mms/rdf/element/_18_0_2_876026b_1427661004426_556776_143472', 'name': 'Data Management System'} {'uri': 'https://opencae.jpl.nasa.gov/mms/rdf/element/_18_0_6_876026b_1478280404909_609058_173008', 'name': 'Network'}\n",
      "FAILURE in  8.582075119018555 s:  \n",
      "_________\n",
      "1 5\n",
      "{'uri': 'https://opencae.jpl.nasa.gov/mms/rdf/element/_18_0_2_876026b_1427661004426_556776_143472', 'name': 'Data Management System'} {'uri': 'https://opencae.jpl.nasa.gov/mms/rdf/element/MMS_1456189351681_ad25f82c-607f-4103-83b1-75f605015749', 'name': 'Networking'}\n",
      "FAILURE in  6.935577154159546 s:  \n",
      "_________\n",
      "2 3\n",
      "{'uri': 'https://opencae.jpl.nasa.gov/mms/rdf/element/_18_0_5_baa02e2_1450821286717_64577_153095', 'name': 'Data Management System'} {'uri': 'https://opencae.jpl.nasa.gov/mms/rdf/element/_17_0_2_3_41e01aa_1382542702961_630808_58999', 'name': 'Executive Software'}\n",
      "\n",
      "SUCCESS in  0.22117209434509277 s  3\n",
      "_________\n",
      "2 4\n",
      "{'uri': 'https://opencae.jpl.nasa.gov/mms/rdf/element/_18_0_5_baa02e2_1450821286717_64577_153095', 'name': 'Data Management System'} {'uri': 'https://opencae.jpl.nasa.gov/mms/rdf/element/_18_0_6_876026b_1478280404909_609058_173008', 'name': 'Network'}\n",
      "FAILURE in  1.0436420440673828 s:  \n",
      "_________\n",
      "2 5\n",
      "{'uri': 'https://opencae.jpl.nasa.gov/mms/rdf/element/_18_0_5_baa02e2_1450821286717_64577_153095', 'name': 'Data Management System'} {'uri': 'https://opencae.jpl.nasa.gov/mms/rdf/element/MMS_1456189351681_ad25f82c-607f-4103-83b1-75f605015749', 'name': 'Networking'}\n",
      "FAILURE in  3.685333013534546 s:  \n",
      "_________\n",
      "3 4\n",
      "{'uri': 'https://opencae.jpl.nasa.gov/mms/rdf/element/_17_0_2_3_41e01aa_1382542702961_630808_58999', 'name': 'Executive Software'} {'uri': 'https://opencae.jpl.nasa.gov/mms/rdf/element/_18_0_6_876026b_1478280404909_609058_173008', 'name': 'Network'}\n",
      "FAILURE in  1.537410020828247 s:  \n",
      "_________\n",
      "3 5\n",
      "{'uri': 'https://opencae.jpl.nasa.gov/mms/rdf/element/_17_0_2_3_41e01aa_1382542702961_630808_58999', 'name': 'Executive Software'} {'uri': 'https://opencae.jpl.nasa.gov/mms/rdf/element/MMS_1456189351681_ad25f82c-607f-4103-83b1-75f605015749', 'name': 'Networking'}\n",
      "FAILURE in  4.390254259109497 s:  \n",
      "_________\n",
      "4 5\n",
      "{'uri': 'https://opencae.jpl.nasa.gov/mms/rdf/element/_18_0_6_876026b_1478280404909_609058_173008', 'name': 'Network'} {'uri': 'https://opencae.jpl.nasa.gov/mms/rdf/element/MMS_1456189351681_ad25f82c-607f-4103-83b1-75f605015749', 'name': 'Networking'}\n",
      "\n",
      "SUCCESS in  1.0416638851165771 s  9\n",
      "_________\n"
     ]
    },
    {
     "data": {
      "text/plain": [
       "<networkx.classes.graph.Graph at 0x1a316bc3d0>"
      ]
     },
     "execution_count": 22,
     "metadata": {},
     "output_type": "execute_result"
    }
   ],
   "source": [
    "g = neptune.graphTraversal()\n",
    "req_object.init_match_subgraph(g)"
   ]
  },
  {
   "cell_type": "code",
   "execution_count": 23,
   "metadata": {},
   "outputs": [
    {
     "data": {
      "image/png": "[encoded data removed]",
      "text/plain": [
       "<Figure size 432x288 with 1 Axes>"
      ]
     },
     "metadata": {},
     "output_type": "display_data"
    }
   ],
   "source": [
    "pos = nx.circular_layout(req_object.req_subgraph)\n",
    "nx.draw_networkx_edge_labels(req_object.req_subgraph, pos)\n",
    "nx.draw_circular(req_object.req_subgraph, with_labels=True)"
   ]
  },
  {
   "cell_type": "code",
   "execution_count": 24,
   "metadata": {},
   "outputs": [
    {
     "data": {
      "text/plain": [
       "NodeDataView({0: {'token': {'text': 'the Data Management System', 'pos': 'PROPN', 'token_id': 117}, 'model_element': {'uri': 'https://opencae.jpl.nasa.gov/mms/rdf/element/_16566_c270fe21-19e7-4d0d-aa3c-31b76ad6ca8b', 'name': 'Data Management System'}, 'score': 0.0013642900507215298}, 1: {'token': {'text': 'the Data Management System', 'pos': 'PROPN', 'token_id': 117}, 'model_element': {'uri': 'https://opencae.jpl.nasa.gov/mms/rdf/element/_18_0_2_876026b_1427661004426_556776_143472', 'name': 'Data Management System'}, 'score': 0.0013642900507215298}, 2: {'token': {'text': 'the Data Management System', 'pos': 'PROPN', 'token_id': 117}, 'model_element': {'uri': 'https://opencae.jpl.nasa.gov/mms/rdf/element/_18_0_5_baa02e2_1450821286717_64577_153095', 'name': 'Data Management System'}, 'score': 0.0013642900507215298}, 3: {'token': {'text': 'Executive Software', 'pos': 'PROPN', 'token_id': 124}, 'model_element': {'uri': 'https://opencae.jpl.nasa.gov/mms/rdf/element/_17_0_2_3_41e01aa_1382542702961_630808_58999', 'name': 'Executive Software'}, 'score': -0.0}, 4: {'token': {'text': 'network', 'pos': 'PROPN', 'token_id': 141}, 'model_element': {'uri': 'https://opencae.jpl.nasa.gov/mms/rdf/element/_18_0_6_876026b_1478280404909_609058_173008', 'name': 'Network'}, 'score': 1.5543122344752193e-17}, 5: {'token': {'text': 'networking', 'pos': 'NOUN', 'token_id': 144}, 'model_element': {'uri': 'https://opencae.jpl.nasa.gov/mms/rdf/element/MMS_1456189351681_ad25f82c-607f-4103-83b1-75f605015749', 'name': 'Networking'}, 'score': -2.2204460492503126e-17}})"
      ]
     },
     "execution_count": 24,
     "metadata": {},
     "output_type": "execute_result"
    }
   ],
   "source": [
    "req_object.req_subgraph.nodes(data=True)"
   ]
  },
  {
   "cell_type": "code",
   "execution_count": 47,
   "metadata": {},
   "outputs": [
    {
     "name": "stdout",
     "output_type": "stream",
     "text": [
      "Token:  the Data Management System\n",
      "Element:  Data Management System\n",
      "URI:  https://opencae.jpl.nasa.gov/mms/rdf/element/_18_0_5_baa02e2_1450821286717_64577_153095 \n",
      "_________\n",
      "Token:  Executive Software\n",
      "Element:  Executive Software\n",
      "URI:  https://opencae.jpl.nasa.gov/mms/rdf/element/_17_0_2_3_41e01aa_1382542702961_630808_58999 \n",
      "_________\n",
      "Token:  network\n",
      "Element:  Network\n",
      "URI:  https://opencae.jpl.nasa.gov/mms/rdf/element/_18_0_6_876026b_1478280404909_609058_173008 \n",
      "_________\n",
      "Token:  networking\n",
      "Element:  Networking\n",
      "URI:  https://opencae.jpl.nasa.gov/mms/rdf/element/MMS_1456189351681_ad25f82c-607f-4103-83b1-75f605015749 \n",
      "_________\n"
     ]
    }
   ],
   "source": [
    "winners = req_object.match_clustering()\n",
    "\n",
    "for winner in winners.values():\n",
    "    print('Token: ', winner['token']['text'])\n",
    "    print('Element: ', winner['model_element']['name'])\n",
    "    print('URI: ', winner['model_element']['uri'], '\\n_________')"
   ]
  },
  {
   "cell_type": "code",
   "execution_count": 48,
   "metadata": {},
   "outputs": [
    {
     "data": {
      "text/plain": [
       "{117: {'token': {'text': 'the Data Management System',\n",
       "   'pos': 'PROPN',\n",
       "   'token_id': 117},\n",
       "  'model_element': {'uri': 'https://opencae.jpl.nasa.gov/mms/rdf/element/_18_0_5_baa02e2_1450821286717_64577_153095',\n",
       "   'name': 'Data Management System'},\n",
       "  'score': 0.0013642900507215298},\n",
       " 124: {'token': {'text': 'Executive Software',\n",
       "   'pos': 'PROPN',\n",
       "   'token_id': 124},\n",
       "  'model_element': {'uri': 'https://opencae.jpl.nasa.gov/mms/rdf/element/_17_0_2_3_41e01aa_1382542702961_630808_58999',\n",
       "   'name': 'Executive Software'},\n",
       "  'score': -0.0},\n",
       " 141: {'token': {'text': 'network', 'pos': 'PROPN', 'token_id': 141},\n",
       "  'model_element': {'uri': 'https://opencae.jpl.nasa.gov/mms/rdf/element/_18_0_6_876026b_1478280404909_609058_173008',\n",
       "   'name': 'Network'},\n",
       "  'score': 1.5543122344752193e-17},\n",
       " 144: {'token': {'text': 'networking', 'pos': 'NOUN', 'token_id': 144},\n",
       "  'model_element': {'uri': 'https://opencae.jpl.nasa.gov/mms/rdf/element/MMS_1456189351681_ad25f82c-607f-4103-83b1-75f605015749',\n",
       "   'name': 'Networking'},\n",
       "  'score': -2.2204460492503126e-17}}"
      ]
     },
     "execution_count": 48,
     "metadata": {},
     "output_type": "execute_result"
    }
   ],
   "source": [
    "winners"
   ]
  },
  {
   "cell_type": "code",
   "execution_count": 60,
   "metadata": {},
   "outputs": [],
   "source": [
    "insert_blocks = \"\"\"<{input_uri}> mms-autocref:reference [\n",
    "   a mms-autocref:Reference ;\n",
    "   mms-autocref:inputText \"{input_text}\" ;\n",
    "   mms-autocref:match <{match_uri}> ;\n",
    "   mms-autocref:token [\n",
    "     a mms-autocref:Token ;\n",
    "     mms-autocref:tokenStart \"{token_position}\"^^xsd:integer ;\n",
    "     mms-autocref:tokenText \"{token_text}\" ;\n",
    "   ] ;\n",
    " ] ;\n",
    " .\n",
    "\"\"\""
   ]
  },
  {
   "cell_type": "code",
   "execution_count": 46,
   "metadata": {},
   "outputs": [],
   "source": [
    "insert_query = \"\"\"prefix mms-autocref: <https://opencae.jpl.nasa.gov/mms/rdf/autocref/>\n",
    "\n",
    "with <https://opencae.jpl.nasa.gov/mms/rdf/graph/autocref.tmt.test>\n",
    "insert {{\n",
    "  {insert_blocks}\n",
    "}}\"\"\""
   ]
  },
  {
   "cell_type": "code",
   "execution_count": 65,
   "metadata": {},
   "outputs": [
    {
     "name": "stdout",
     "output_type": "stream",
     "text": [
      "prefix mms-autocref: <https://opencae.jpl.nasa.gov/mms/rdf/autocref/>\n",
      "\n",
      "with <https://opencae.jpl.nasa.gov/mms/rdf/graph/autocref.tmt.test>\n",
      "insert {\n",
      "  <https://opencae.jpl.nasa.gov/mms/rdf/element/_831_331c90b6-9e17-4c46-8530-0fc345e0a22f_asi-slot-_11_5EAPbeta_be00301_1147873226632_528960_2311-slotvalue-0-literalstring> mms-autocref:reference [\n",
      "   a mms-autocref:Reference ;\n",
      "   mms-autocref:inputText \"<html><body>\n",
      "<span xmlns=\"http://www.w3.org/1999/xhtml\"><strong>[REQ-1-OAD-0185]</strong> The Observatory Safety system decomposition element is defined as follows:<br/>Associated WBS element(s): TMT.TEL.CONT.OSS<br/>The Observatory Safety System (OSS) contributes to the enforcement of safe conditions throughout the summit facility by continuously monitoring the state of connected equipment, systems and sensors and taking appropriate action as soon as an unsafe condition is detected. It is independent from and supplementary to any safety systems and functionality that is contained within individual subsystems. Based on one or more Programmable Logic Controllers (PLCs), it will interface with connected subsystems via a dedicated safety rated fieldbus based on EtherNet/IP; monitor interlock requests and possibly a defined subset of additional signals from all connected subsystems; monitor the emergency stop switches located throughout the summit facility; manage safety interlock enforcement between sub-systems; provide a user interface that provides fault and interlock reporting and reset capabilities: communicate the safety state of all connected subsystems to, at a minimum, the Data Management System (DMS) &amp; Executive Software (ESW).<br/>The OSS includes the Global Safety Controller (GSC), remote I/O modules, the fieldbus network and associated networking components such as switches, a Human-Machine Interface (HMI), racks, enclosures, power supplies, network cabling,  and all associated PLC software. It does not include the Local Safety Controllers, fire suppression systems, emergency lighting or the individual emergency stop buttons’ wiring and mounting hardware. These are the responsibility of the individual subsystems.</span></body></html>\" ;\n",
      "   mms-autocref:match <https://opencae.jpl.nasa.gov/mms/rdf/element/_18_0_5_baa02e2_1450821286717_64577_153095> ;\n",
      "   mms-autocref:token [\n",
      "     a mms-autocref:Token ;\n",
      "     mms-autocref:tokenStart \"117\"^^xsd:integer ;\n",
      "     mms-autocref:tokenText \"the Data Management System\" ;\n",
      "   ] ;\n",
      " ] ;\n",
      " .\n",
      "<https://opencae.jpl.nasa.gov/mms/rdf/element/_831_331c90b6-9e17-4c46-8530-0fc345e0a22f_asi-slot-_11_5EAPbeta_be00301_1147873226632_528960_2311-slotvalue-0-literalstring> mms-autocref:reference [\n",
      "   a mms-autocref:Reference ;\n",
      "   mms-autocref:inputText \"<html><body>\n",
      "<span xmlns=\"http://www.w3.org/1999/xhtml\"><strong>[REQ-1-OAD-0185]</strong> The Observatory Safety system decomposition element is defined as follows:<br/>Associated WBS element(s): TMT.TEL.CONT.OSS<br/>The Observatory Safety System (OSS) contributes to the enforcement of safe conditions throughout the summit facility by continuously monitoring the state of connected equipment, systems and sensors and taking appropriate action as soon as an unsafe condition is detected. It is independent from and supplementary to any safety systems and functionality that is contained within individual subsystems. Based on one or more Programmable Logic Controllers (PLCs), it will interface with connected subsystems via a dedicated safety rated fieldbus based on EtherNet/IP; monitor interlock requests and possibly a defined subset of additional signals from all connected subsystems; monitor the emergency stop switches located throughout the summit facility; manage safety interlock enforcement between sub-systems; provide a user interface that provides fault and interlock reporting and reset capabilities: communicate the safety state of all connected subsystems to, at a minimum, the Data Management System (DMS) &amp; Executive Software (ESW).<br/>The OSS includes the Global Safety Controller (GSC), remote I/O modules, the fieldbus network and associated networking components such as switches, a Human-Machine Interface (HMI), racks, enclosures, power supplies, network cabling,  and all associated PLC software. It does not include the Local Safety Controllers, fire suppression systems, emergency lighting or the individual emergency stop buttons’ wiring and mounting hardware. These are the responsibility of the individual subsystems.</span></body></html>\" ;\n",
      "   mms-autocref:match <https://opencae.jpl.nasa.gov/mms/rdf/element/_17_0_2_3_41e01aa_1382542702961_630808_58999> ;\n",
      "   mms-autocref:token [\n",
      "     a mms-autocref:Token ;\n",
      "     mms-autocref:tokenStart \"124\"^^xsd:integer ;\n",
      "     mms-autocref:tokenText \"Executive Software\" ;\n",
      "   ] ;\n",
      " ] ;\n",
      " .\n",
      "<https://opencae.jpl.nasa.gov/mms/rdf/element/_831_331c90b6-9e17-4c46-8530-0fc345e0a22f_asi-slot-_11_5EAPbeta_be00301_1147873226632_528960_2311-slotvalue-0-literalstring> mms-autocref:reference [\n",
      "   a mms-autocref:Reference ;\n",
      "   mms-autocref:inputText \"<html><body>\n",
      "<span xmlns=\"http://www.w3.org/1999/xhtml\"><strong>[REQ-1-OAD-0185]</strong> The Observatory Safety system decomposition element is defined as follows:<br/>Associated WBS element(s): TMT.TEL.CONT.OSS<br/>The Observatory Safety System (OSS) contributes to the enforcement of safe conditions throughout the summit facility by continuously monitoring the state of connected equipment, systems and sensors and taking appropriate action as soon as an unsafe condition is detected. It is independent from and supplementary to any safety systems and functionality that is contained within individual subsystems. Based on one or more Programmable Logic Controllers (PLCs), it will interface with connected subsystems via a dedicated safety rated fieldbus based on EtherNet/IP; monitor interlock requests and possibly a defined subset of additional signals from all connected subsystems; monitor the emergency stop switches located throughout the summit facility; manage safety interlock enforcement between sub-systems; provide a user interface that provides fault and interlock reporting and reset capabilities: communicate the safety state of all connected subsystems to, at a minimum, the Data Management System (DMS) &amp; Executive Software (ESW).<br/>The OSS includes the Global Safety Controller (GSC), remote I/O modules, the fieldbus network and associated networking components such as switches, a Human-Machine Interface (HMI), racks, enclosures, power supplies, network cabling,  and all associated PLC software. It does not include the Local Safety Controllers, fire suppression systems, emergency lighting or the individual emergency stop buttons’ wiring and mounting hardware. These are the responsibility of the individual subsystems.</span></body></html>\" ;\n",
      "   mms-autocref:match <https://opencae.jpl.nasa.gov/mms/rdf/element/_18_0_6_876026b_1478280404909_609058_173008> ;\n",
      "   mms-autocref:token [\n",
      "     a mms-autocref:Token ;\n",
      "     mms-autocref:tokenStart \"141\"^^xsd:integer ;\n",
      "     mms-autocref:tokenText \"network\" ;\n",
      "   ] ;\n",
      " ] ;\n",
      " .\n",
      "<https://opencae.jpl.nasa.gov/mms/rdf/element/_831_331c90b6-9e17-4c46-8530-0fc345e0a22f_asi-slot-_11_5EAPbeta_be00301_1147873226632_528960_2311-slotvalue-0-literalstring> mms-autocref:reference [\n",
      "   a mms-autocref:Reference ;\n",
      "   mms-autocref:inputText \"<html><body>\n",
      "<span xmlns=\"http://www.w3.org/1999/xhtml\"><strong>[REQ-1-OAD-0185]</strong> The Observatory Safety system decomposition element is defined as follows:<br/>Associated WBS element(s): TMT.TEL.CONT.OSS<br/>The Observatory Safety System (OSS) contributes to the enforcement of safe conditions throughout the summit facility by continuously monitoring the state of connected equipment, systems and sensors and taking appropriate action as soon as an unsafe condition is detected. It is independent from and supplementary to any safety systems and functionality that is contained within individual subsystems. Based on one or more Programmable Logic Controllers (PLCs), it will interface with connected subsystems via a dedicated safety rated fieldbus based on EtherNet/IP; monitor interlock requests and possibly a defined subset of additional signals from all connected subsystems; monitor the emergency stop switches located throughout the summit facility; manage safety interlock enforcement between sub-systems; provide a user interface that provides fault and interlock reporting and reset capabilities: communicate the safety state of all connected subsystems to, at a minimum, the Data Management System (DMS) &amp; Executive Software (ESW).<br/>The OSS includes the Global Safety Controller (GSC), remote I/O modules, the fieldbus network and associated networking components such as switches, a Human-Machine Interface (HMI), racks, enclosures, power supplies, network cabling,  and all associated PLC software. It does not include the Local Safety Controllers, fire suppression systems, emergency lighting or the individual emergency stop buttons’ wiring and mounting hardware. These are the responsibility of the individual subsystems.</span></body></html>\" ;\n",
      "   mms-autocref:match <https://opencae.jpl.nasa.gov/mms/rdf/element/MMS_1456189351681_ad25f82c-607f-4103-83b1-75f605015749> ;\n",
      "   mms-autocref:token [\n",
      "     a mms-autocref:Token ;\n",
      "     mms-autocref:tokenStart \"144\"^^xsd:integer ;\n",
      "     mms-autocref:tokenText \"networking\" ;\n",
      "   ] ;\n",
      " ] ;\n",
      " .\n",
      "\n",
      "}\n"
     ]
    }
   ],
   "source": [
    "insert_concat = \"\"\n",
    "\n",
    "for winner in winners.values():\n",
    "    insert_concat += insert_blocks.format(input_uri = req_object.text_uri,\n",
    "                                  input_text = req_object.text,\n",
    "                                  match_uri = winner['model_element']['uri'],\n",
    "                                  token_position = winner['token']['token_id'],\n",
    "                                  token_text = winner['token']['text'])\n",
    "    \n",
    "insert_query = insert_query.format(insert_blocks=insert_concat)\n",
    "print(insert_query)"
   ]
  },
  {
   "cell_type": "code",
   "execution_count": null,
   "metadata": {},
   "outputs": [],
   "source": []
  },
  {
   "cell_type": "markdown",
   "metadata": {},
   "source": [
    "# MISCELLANEOUS "
   ]
  },
  {
   "cell_type": "code",
   "execution_count": 44,
   "metadata": {},
   "outputs": [
    {
     "name": "stdout",
     "output_type": "stream",
     "text": [
      "[[ 0.  3.  3.  2.]\n",
      " [ 2.  6.  5.  3.]\n",
      " [ 4.  5.  9.  2.]\n",
      " [ 1.  7. 11.  4.]\n",
      " [ 8.  9. 11.  6.]]\n",
      "[[0, 3], [1], [2], [4], [5]]\n"
     ]
    },
    {
     "data": {
      "text/plain": [
       "{117: 'https://opencae.jpl.nasa.gov/mms/rdf/element/_18_0_5_baa02e2_1450821286717_64577_153095',\n",
       " 124: 'https://opencae.jpl.nasa.gov/mms/rdf/element/_17_0_2_3_41e01aa_1382542702961_630808_58999',\n",
       " 141: 'https://opencae.jpl.nasa.gov/mms/rdf/element/_18_0_6_876026b_1478280404909_609058_173008',\n",
       " 144: 'https://opencae.jpl.nasa.gov/mms/rdf/element/MMS_1456189351681_ad25f82c-607f-4103-83b1-75f605015749'}"
      ]
     },
     "execution_count": 44,
     "metadata": {},
     "output_type": "execute_result"
    }
   ],
   "source": [
    "req_object.match_clustering_stop_condition()"
   ]
  },
  {
   "cell_type": "code",
   "execution_count": 113,
   "metadata": {},
   "outputs": [],
   "source": [
    "D = [[ 0.,  2.,  3. , 2.],\n",
    " [ 3. , 6.,  5.,  3.],\n",
    " [ 4. , 5.,  9.,  2.],\n",
    " [ 1. , 7., 11.,  4.],\n",
    " [ 8. , 9., 11.,  6.]]"
   ]
  },
  {
   "cell_type": "code",
   "execution_count": 98,
   "metadata": {},
   "outputs": [],
   "source": [
    "from paris.utils import select_clustering, select_clustering_gen, select_clustering_gen2"
   ]
  },
  {
   "cell_type": "code",
   "execution_count": 121,
   "metadata": {},
   "outputs": [
    {
     "name": "stdout",
     "output_type": "stream",
     "text": [
      "WARNING: Same age (0) and same token were merged\n",
      "Token: {'text': 'the Data Management System', 'pos': 'PROPN', 'token_id': 117}\n",
      "[0, 2, 3, 1, 4, 5]\n"
     ]
    }
   ],
   "source": [
    "# print(select_clustering_gen2(D, req_object.req_subgraph, 0))\n",
    "# print(select_clustering_gen2(D, req_object.req_subgraph, 1))\n",
    "# print(select_clustering_gen2(D, req_object.req_subgraph, 2))\n",
    "# print(select_clustering_gen2(D, req_object.req_subgraph, 3))\n",
    "# print(select_clustering_gen2(D, req_object.req_subgraph, 4))\n",
    "print(select_clustering_gen2(D, req_object.req_subgraph, 5))"
   ]
  },
  {
   "cell_type": "code",
   "execution_count": null,
   "metadata": {},
   "outputs": [],
   "source": []
  },
  {
   "cell_type": "code",
   "execution_count": 150,
   "metadata": {},
   "outputs": [
    {
     "name": "stdout",
     "output_type": "stream",
     "text": [
      "gremlin: ws://ec2-18-224-170-154.us-east-2.compute.amazonaws.com:8182/gremlin\n"
     ]
    },
    {
     "data": {
      "text/plain": [
       "[path[v[MMS_1461009357890_d8449449-d16f-43c7-90a4-ee5744566f84], v[_17_0_1_232f03dc_1325612611695_581988_21583], v[MMS_1461009332936_4f59edac-f8f9-47e6-972b-fb68ca0f56ed]]]"
      ]
     },
     "execution_count": 150,
     "metadata": {},
     "output_type": "execute_result"
    }
   ],
   "source": [
    "g = neptune.graphTraversal()\n",
    "g.V('MMS_1461009357890_d8449449-d16f-43c7-90a4-ee5744566f84').repeat(both().simplePath()).until(hasId('MMS_1461009332936_4f59edac-f8f9-47e6-972b-fb68ca0f56ed').or_().loops().is_(8)).path().limit(1).toList()"
   ]
  },
  {
   "cell_type": "code",
   "execution_count": null,
   "metadata": {},
   "outputs": [],
   "source": []
  },
  {
   "cell_type": "markdown",
   "metadata": {},
   "source": [
    "### All matches:"
   ]
  },
  {
   "cell_type": "code",
   "execution_count": 33,
   "metadata": {},
   "outputs": [
    {
     "name": "stdout",
     "output_type": "stream",
     "text": [
      "{'token': {'text': 'the Data Management System', 'pos': 'PROPN', 'token_id': 117}, 'model_element': {'uri': 'https://opencae.jpl.nasa.gov/mms/rdf/element/_18_0_5_baa02e2_1450821286717_64577_153095', 'name': 'Data Management System'}, 'score': 0.0013642900507215298}\n",
      "None\n",
      "{'token': {'text': 'the Data Management System', 'pos': 'PROPN', 'token_id': 117}, 'model_element': {'uri': 'https://opencae.jpl.nasa.gov/mms/rdf/element/_16566_c270fe21-19e7-4d0d-aa3c-31b76ad6ca8b', 'name': 'Data Management System'}, 'score': 0.0013642900507215298}\n",
      "None\n",
      "{'token': {'text': 'the Data Management System', 'pos': 'PROPN', 'token_id': 117}, 'model_element': {'uri': 'https://opencae.jpl.nasa.gov/mms/rdf/element/_18_0_2_876026b_1427661004426_556776_143472', 'name': 'Data Management System'}, 'score': 0.0013642900507215298}\n",
      "None\n",
      "{'token': {'text': 'Executive Software', 'pos': 'PROPN', 'token_id': 124}, 'model_element': {'uri': 'https://opencae.jpl.nasa.gov/mms/rdf/element/_17_0_2_3_41e01aa_1382542702961_630808_58999', 'name': 'Executive Software'}, 'score': -0.0}\n",
      "None\n",
      "{'token': {'text': 'network', 'pos': 'PROPN', 'token_id': 141}, 'model_element': {'uri': 'https://opencae.jpl.nasa.gov/mms/rdf/element/_18_0_6_876026b_1478280404909_609058_173008', 'name': 'Network'}, 'score': 1.5543122344752193e-17}\n",
      "None\n",
      "{'token': {'text': 'networking', 'pos': 'NOUN', 'token_id': 144}, 'model_element': {'uri': 'https://opencae.jpl.nasa.gov/mms/rdf/element/MMS_1456189351681_ad25f82c-607f-4103-83b1-75f605015749', 'name': 'Networking'}, 'score': -2.2204460492503126e-17}\n",
      "None\n"
     ]
    }
   ],
   "source": [
    "for i in range(6):\n",
    "    print(print(req_object.req_subgraph.nodes(data=True)[i]))"
   ]
  },
  {
   "cell_type": "code",
   "execution_count": null,
   "metadata": {},
   "outputs": [],
   "source": []
  },
  {
   "cell_type": "markdown",
   "metadata": {},
   "source": [
    "### Matches within the biggest cluster:"
   ]
  },
  {
   "cell_type": "code",
   "execution_count": 38,
   "metadata": {},
   "outputs": [
    {
     "name": "stdout",
     "output_type": "stream",
     "text": [
      "Token:\t the Data Management System \n",
      "Element URI:  https://opencae.jpl.nasa.gov/mms/rdf/element/_18_0_5_baa02e2_1450821286717_64577_153095 \n",
      "______\n",
      "Token:\t Executive Software \n",
      "Element URI:  https://opencae.jpl.nasa.gov/mms/rdf/element/_17_0_2_3_41e01aa_1382542702961_630808_58999 \n",
      "______\n"
     ]
    }
   ],
   "source": [
    "for node_i in match_clusters[0]:\n",
    "    print('Token:\\t', req_object.req_subgraph.nodes(data=True)[node_i]['token']['text'], '\\nElement URI: ', req_object.req_subgraph.nodes(data=True)[node_i]['model_element']['uri'], '\\n______')"
   ]
  },
  {
   "cell_type": "code",
   "execution_count": null,
   "metadata": {},
   "outputs": [],
   "source": []
  },
  {
   "cell_type": "code",
   "execution_count": null,
   "metadata": {},
   "outputs": [],
   "source": []
  },
  {
   "cell_type": "code",
   "execution_count": null,
   "metadata": {},
   "outputs": [],
   "source": []
  },
  {
   "cell_type": "markdown",
   "metadata": {},
   "source": [
    "## Misc Testing"
   ]
  },
  {
   "cell_type": "code",
   "execution_count": 102,
   "metadata": {},
   "outputs": [],
   "source": [
    "summit='_4663af6e-6265-438d-87b8-74e1550518bf__65_6314a138-53b9-42a5-b488-9c23967ed889'\n",
    "enclosure='_18_0_6_f1d0357_1490143302007_461579_179266'\n",
    "mirror='_18_5_2_e64033a_1509475358071_810923_58742'\n",
    "aps_user='_17_0_2_3_41e01aa_1389730769202_855584_72742'\n",
    "aps_mission='_17_0_2_3_41e01aa_1389728637481_651557_61606'"
   ]
  },
  {
   "cell_type": "code",
   "execution_count": null,
   "metadata": {},
   "outputs": [],
   "source": [
    "g = neptune.graphTraversal()\n",
    "g.V('_18_5_3_e64033a_1517517345905_946202_22722').repeat(both().simplePath()).until(hasId('_4663af6e-6265-438d-87b8-74e1550518bf__10_a7ad0d07-fa64-40e7-a266-db3006b20dc5').or_().loops().is_(8)).path().limit(1).toList()"
   ]
  },
  {
   "cell_type": "code",
   "execution_count": 119,
   "metadata": {},
   "outputs": [
    {
     "name": "stdout",
     "output_type": "stream",
     "text": [
      "gremlin: ws://ec2-18-224-170-154.us-east-2.compute.amazonaws.com:8182/gremlin\n"
     ]
    },
    {
     "data": {
      "text/plain": [
       "[{'_label': ['Enclosure']}]"
      ]
     },
     "execution_count": 119,
     "metadata": {},
     "output_type": "execute_result"
    }
   ],
   "source": [
    "g = neptune.graphTraversal()\n",
    "g.V(enclosure).valueMap().toList()"
   ]
  },
  {
   "cell_type": "code",
   "execution_count": null,
   "metadata": {},
   "outputs": [],
   "source": []
  },
  {
   "cell_type": "code",
   "execution_count": 57,
   "metadata": {},
   "outputs": [],
   "source": [
    "import spacy\n",
    "\n",
    "nlp_np = spacy.load(\"en_core_web_sm\")\n",
    "merge_nps = nlp_np.create_pipe(\"merge_noun_chunks\")\n",
    "nlp_np.add_pipe(merge_nps)\n"
   ]
  },
  {
   "cell_type": "code",
   "execution_count": 69,
   "metadata": {},
   "outputs": [
    {
     "name": "stdout",
     "output_type": "stream",
     "text": [
      "Hello INTJ 0\n",
      "my name NOUN 6\n",
      "is AUX 14\n",
      "the beautiful car NOUN 17\n",
      "of ADP 35\n",
      "New York PROPN 38\n",
      ". PUNCT 46\n",
      "Bye INTJ 48\n",
      "! PUNCT 51\n"
     ]
    }
   ],
   "source": [
    "for t in nlp_np(\"Hello my name is the beautiful car of New York. Bye!\"):\n",
    "    print(t.text, t.pos_, t.idx)"
   ]
  },
  {
   "cell_type": "code",
   "execution_count": null,
   "metadata": {},
   "outputs": [],
   "source": []
  },
  {
   "cell_type": "code",
   "execution_count": null,
   "metadata": {},
   "outputs": [],
   "source": []
  },
  {
   "cell_type": "code",
   "execution_count": null,
   "metadata": {},
   "outputs": [],
   "source": []
  },
  {
   "cell_type": "code",
   "execution_count": null,
   "metadata": {},
   "outputs": [],
   "source": []
  }
 ],
 "metadata": {
  "kernelspec": {
   "display_name": "Python [conda env:cref]",
   "language": "python",
   "name": "conda-env-cref-py"
  },
  "language_info": {
   "codemirror_mode": {
    "name": "ipython",
    "version": 3
   },
   "file_extension": ".py",
   "mimetype": "text/x-python",
   "name": "python",
   "nbconvert_exporter": "python",
   "pygments_lexer": "ipython3",
   "version": "3.7.6"
  }
 },
 "nbformat": 4,
 "nbformat_minor": 4
}
